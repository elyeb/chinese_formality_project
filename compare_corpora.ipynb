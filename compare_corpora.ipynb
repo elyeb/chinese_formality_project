{
 "cells": [
  {
   "cell_type": "markdown",
   "id": "12abb917",
   "metadata": {},
   "source": [
    "Create a simple distribution of 你/您 among the corpora explored"
   ]
  },
  {
   "cell_type": "code",
   "execution_count": 51,
   "id": "f5d765e9",
   "metadata": {},
   "outputs": [],
   "source": [
    "import jieba\n",
    "from pathlib import Path\n",
    "import re\n",
    "import json\n",
    "from tqdm import tqdm\n",
    "import pandas as pd"
   ]
  },
  {
   "cell_type": "code",
   "execution_count": null,
   "id": "1f3226e3",
   "metadata": {},
   "outputs": [],
   "source": [
    "# HUB5 Mandarin Telephone Speech and Transcripts\n",
    "%ls /corpora/LDC/LDC2018S18/data/transcripts/mandarin/"
   ]
  },
  {
   "cell_type": "code",
   "execution_count": 85,
   "id": "6601335e",
   "metadata": {},
   "outputs": [],
   "source": [
    "compare = dict()\n",
    "compare['HUB5 Mandarin Telephone\\nSpeech and Transcripts'] = dict()"
   ]
  },
  {
   "cell_type": "code",
   "execution_count": 86,
   "id": "1161b3b8",
   "metadata": {},
   "outputs": [],
   "source": [
    "p = Path('/corpora/LDC/LDC2018S18/data/transcripts/mandarin/')\n",
    "files = [f for f in p.iterdir() if f.is_file()]\n",
    "ni_count = 0\n",
    "nin_count = 0\n",
    "for f in files:\n",
    "    with open(str(f.absolute()),'r') as infile:\n",
    "        raw = infile.read()\n",
    "        ni_count += len(re.findall('你',raw))\n",
    "        nin_count += len(re.findall('您',raw))\n",
    "        \n",
    "compare['HUB5 Mandarin Telephone\\nSpeech and Transcripts']['你 nǐ']=ni_count\n",
    "compare['HUB5 Mandarin Telephone\\nSpeech and Transcripts']['您 nín']=nin_count"
   ]
  },
  {
   "cell_type": "code",
   "execution_count": null,
   "id": "1dda65b3",
   "metadata": {},
   "outputs": [],
   "source": [
    "# MAGICDATA Mandarin Chinese Conversational Speech Corpus\n",
    "%ls /projects/assigned/2223_elyeb/MDT2021S003/TXT/"
   ]
  },
  {
   "cell_type": "code",
   "execution_count": 87,
   "id": "5299465c",
   "metadata": {},
   "outputs": [],
   "source": [
    "compare['MAGICDATA Mandarin Chinese\\nConversational Speech'] = dict()\n",
    "p = Path('/projects/assigned/2223_elyeb/MDT2021S003/TXT/')\n",
    "files = [f for f in p.iterdir() if f.is_file()]\n",
    "ni_count = 0\n",
    "nin_count = 0\n",
    "for f in files:\n",
    "    with open(str(f.absolute()),'r') as infile:\n",
    "        raw = infile.read()\n",
    "        ni_count += len(re.findall('你',raw))\n",
    "        nin_count += len(re.findall('您',raw))\n",
    "        \n",
    "compare['MAGICDATA Mandarin Chinese\\nConversational Speech']['你 nǐ']=ni_count\n",
    "compare['MAGICDATA Mandarin Chinese\\nConversational Speech']['您 nín']=nin_count"
   ]
  },
  {
   "cell_type": "code",
   "execution_count": 47,
   "id": "faad934e",
   "metadata": {},
   "outputs": [
    {
     "name": "stdout",
     "output_type": "stream",
     "text": [
      "\u001b[0m\u001b[38;5;33mdev\u001b[0m/  \u001b[38;5;33mtrain\u001b[0m/\r\n"
     ]
    }
   ],
   "source": [
    "%ls /corpora/LDC/LDC05T32/data/trans"
   ]
  },
  {
   "cell_type": "code",
   "execution_count": 88,
   "id": "3e7c971e",
   "metadata": {},
   "outputs": [],
   "source": [
    "#HKUST/MTS: A Very Large Scale Mandarin Telephone Speech Corpus\n",
    "compare['HKUST/MTS: A Very Large\\nScale Mandarin Telephone\\nSpeech Corpus'] = dict()\n",
    "p = Path('/corpora/LDC/LDC05T32/data/trans/train/')\n",
    "files = [f for f in p.iterdir() if f.is_file()]\n",
    "ni_count = 0\n",
    "nin_count = 0\n",
    "for f in files:\n",
    "    with open(str(f.absolute()),'r',encoding='gb18030') as infile:\n",
    "        raw = infile.read()\n",
    "        ni_count += len(re.findall('你',raw))\n",
    "        nin_count += len(re.findall('您',raw))\n",
    "\n",
    "p = Path('/corpora/LDC/LDC05T32/data/trans/dev/')\n",
    "files = [f for f in p.iterdir() if f.is_file()]\n",
    "for f in files:\n",
    "    with open(str(f.absolute()),'r',encoding='gb18030') as infile:\n",
    "        raw = infile.read()\n",
    "        ni_count += len(re.findall('你',raw))\n",
    "        nin_count += len(re.findall('您',raw))\n",
    "        \n",
    "compare['HKUST/MTS: A Very Large\\nScale Mandarin Telephone\\nSpeech Corpus']['你 nǐ']=ni_count\n",
    "compare['HKUST/MTS: A Very Large\\nScale Mandarin Telephone\\nSpeech Corpus']['您 nín']=nin_count"
   ]
  },
  {
   "cell_type": "code",
   "execution_count": 54,
   "id": "b44b470c",
   "metadata": {},
   "outputs": [
    {
     "data": {
      "text/plain": [
       "{'HUB5 Mandarin Telephone\\nSpeech and Transcripts': {'你 nǐ': 7143,\n",
       "  '您 nín': 9},\n",
       " 'MAGICDATA Mandarin Chinese\\nConversational Speech': {'你 nǐ': 34264,\n",
       "  '您 nín': 61},\n",
       " 'HKUST/MTS: A Very Large\\nScale Mandarin Telephone\\nSpeech Corpus': {'你 nǐ': 45860,\n",
       "  '您 nín': 206},\n",
       " 'CRECIL': {'你 nǐ': 9477, '您 nín': 3740}}"
      ]
     },
     "execution_count": 54,
     "metadata": {},
     "output_type": "execute_result"
    }
   ],
   "source": [
    "dialogre/data_v2/cn/data/train.json\n",
    "dialogre/data_v2/cn/data/dev.json\n",
    "dialogre/data_v2/cn/data/test.json"
   ]
  },
  {
   "cell_type": "code",
   "execution_count": 89,
   "id": "14c3880e",
   "metadata": {},
   "outputs": [
    {
     "name": "stderr",
     "output_type": "stream",
     "text": [
      "100%|██████████████████████████████████| 1073/1073 [00:00<00:00, 61779.16it/s]\n",
      "100%|████████████████████████████████████| 358/358 [00:00<00:00, 61320.73it/s]\n",
      "100%|████████████████████████████████████| 357/357 [00:00<00:00, 63086.86it/s]\n"
     ]
    }
   ],
   "source": [
    "#DialogRE\n",
    "compare['DialogRE'] = dict()\n",
    "\n",
    "ni_count = 0\n",
    "nin_count = 0\n",
    "\n",
    "with open('./dialogre/data_v2/cn/data/train.json','r') as infile:\n",
    "    train_df = json.loads(infile.read())\n",
    "\n",
    "for i in tqdm(range(0,len(train_df))):\n",
    "\n",
    "    raw_list = train_df[i][0]\n",
    "    for raw in raw_list:\n",
    "\n",
    "        ni_count += len(re.findall('你',raw))\n",
    "        nin_count += len(re.findall('您',raw))\n",
    " \n",
    "with open('./dialogre/data_v2/cn/data/dev.json','r') as infile:\n",
    "    dev_df = json.loads(infile.read())\n",
    "for i in tqdm(range(0,len(dev_df))):\n",
    "\n",
    "    raw_list = dev_df[i][0]\n",
    "    for raw in raw_list:\n",
    "\n",
    "        ni_count += len(re.findall('你',raw))\n",
    "        nin_count += len(re.findall('您',raw))\n",
    "        \n",
    "with open('./dialogre/data_v2/cn/data/test.json','r') as infile:\n",
    "    test_df = json.loads(infile.read())\n",
    "    \n",
    "for i in tqdm(range(0,len(test_df))):\n",
    "\n",
    "    raw_list = test_df[i][0]\n",
    "    for raw in raw_list:\n",
    "\n",
    "        ni_count += len(re.findall('你',raw))\n",
    "        nin_count += len(re.findall('您',raw))\n",
    "        \n",
    "compare['DialogRE']['你 nǐ']=ni_count\n",
    "compare['DialogRE']['您 nín']=nin_count"
   ]
  },
  {
   "cell_type": "code",
   "execution_count": 72,
   "id": "bcea8a52",
   "metadata": {},
   "outputs": [
    {
     "name": "stdout",
     "output_type": "stream",
     "text": [
      "\u001b[0m\u001b[38;5;33mstrange_tales_of_tang_dynasty\u001b[0m/  \u001b[38;5;33m同一屋檐下\u001b[0m/\r\n"
     ]
    }
   ],
   "source": [
    "#Self-curated subtitles\n",
    "%ls ./subtitle_corpora/Chinese/strange_tales_of_tang_dynasty"
   ]
  },
  {
   "cell_type": "code",
   "execution_count": 74,
   "id": "85222895",
   "metadata": {},
   "outputs": [
    {
     "name": "stdout",
     "output_type": "stream",
     "text": [
      "'[Chinese (Simplified)] 【同一屋檐下 第一季】EP01 上篇 合宿首日刷碗事件笑喷邓紫棋 邓紫棋_陈建斌_魏大勋_李诞_曾可妮_杨笠 优酷 YOUKU [DownSub.com].txt'\r\n",
      "'[Chinese (Simplified)] 【同一屋檐下 第一季】EP01 下篇 邓紫棋神分析被李诞夸很懂男的 邓紫棋_陈建斌_魏大勋_李诞_曾可妮_杨笠 优酷 YOUKU [DownSub.com].txt'\r\n",
      "'[Chinese (Simplified)] 【同一屋檐下 第一季】EP02 上篇 陈建斌魏大勋互传恋爱经 邓紫棋_陈建斌_魏大勋_李诞_曾可妮_杨笠 优酷 YOUKU [DownSub.com].txt'\r\n",
      "'[Chinese (Simplified)] 【同一屋檐下 第一季】EP02 下篇 杨笠急脱单求教陈建斌 邓紫棋_陈建斌_魏大勋_李诞_曾可妮_杨笠 优酷 YOUKU [DownSub.com].txt'\r\n",
      "'[Chinese (Simplified)] 【同一屋檐下 第一季】EP03 上篇 陈建斌爆笑按头魏大勋邓紫棋 邓紫棋_陈建斌_魏大勋_李诞_曾可妮_杨笠 优酷 YOUKU [DownSub.com].txt'\r\n",
      "'[Chinese (Simplified)] 【同一屋檐下 第一季】EP03 下篇 告白惨案引邓紫棋李诞暴风争吵 邓紫棋_陈建斌_魏大勋_李诞_曾可妮_杨笠 优酷 YOUKU [DownSub.com].txt'\r\n",
      "'[Chinese (Simplified)] 【同一屋檐下 第一季】EP04 上篇 电竞大神招惹两女惹怒观察室 邓紫棋_陈建斌_魏大勋_李诞_曾可妮_杨笠 优酷 YOUKU [DownSub.com].txt'\r\n",
      "'[Chinese (Simplified)] 【同一屋檐下 第一季】EP04 下篇 刘总误导卡门被骂“搅屎棍” 邓紫棋_陈建斌_魏大勋_李诞_曾可妮_杨笠 优酷 YOUKU [DownSub.com].txt'\r\n",
      "'[Chinese (Simplified)] 【同一屋檐下 第一季】EP05 上篇 卡卡精心赴约被彬神惹哭 邓紫棋_陈建斌_魏大勋_李诞_曾可妮_杨笠 优酷 YOUKU [DownSub.com].txt'\r\n",
      "'[Chinese (Simplified)] 【同一屋檐下 第一季】EP05 下篇 女模特心疼情敌拒绝告白 邓紫棋_陈建斌_魏大勋_李诞_曾可妮_杨笠 优酷 YOUKU [DownSub.com].txt'\r\n",
      "'[Chinese (Simplified)] 【同一屋檐下 第一季】EP09 下篇 鲜肉新人当天奇面说喜欢娜娜 邓紫棋_陈建斌_魏大勋_李诞_曾可妮_杨笠 优酷 YOUKU [DownSub.com].txt'\r\n"
     ]
    }
   ],
   "source": [
    "%ls ./subtitle_corpora/Chinese/strange_tales_of_tang_dynasty"
   ]
  },
  {
   "cell_type": "code",
   "execution_count": 90,
   "id": "dc022c1c",
   "metadata": {
    "scrolled": true
   },
   "outputs": [],
   "source": [
    "compare['Self-curated subtitles'] = dict()\n",
    "\n",
    "ni_count = 0\n",
    "nin_count = 0\n",
    "\n",
    "p = Path('./subtitle_corpora/Chinese/strange_tales_of_tang_dynasty/')\n",
    "files = [f for f in p.iterdir() if f.is_file()]\n",
    "for f in files:\n",
    "    with open(str(f.absolute()),'r') as infile:\n",
    "        raw = infile.read()\n",
    "        ni_count += len(re.findall('你',raw))\n",
    "        nin_count += len(re.findall('您',raw))\n",
    "        \n",
    "p = Path('./subtitle_corpora/Chinese/同一屋檐下/')\n",
    "files = [f for f in p.iterdir() if f.is_file()]\n",
    "for f in files:\n",
    "    with open(str(f.absolute()),'r') as infile:\n",
    "        raw = infile.read()\n",
    "        ni_count += len(re.findall('你',raw))\n",
    "        nin_count += len(re.findall('您',raw))\n",
    "        \n",
    "compare['Self-curated subtitles']['你 nǐ']=ni_count\n",
    "compare['Self-curated subtitles']['您 nín']=nin_count"
   ]
  },
  {
   "cell_type": "code",
   "execution_count": 91,
   "id": "66fa8776",
   "metadata": {},
   "outputs": [
    {
     "name": "stderr",
     "output_type": "stream",
     "text": [
      "100%|████████████████████████████████████| 482/482 [00:00<00:00, 28380.07it/s]\n",
      "100%|████████████████████████████████████| 116/116 [00:00<00:00, 32843.21it/s]\n",
      "100%|██████████████████████████████████████| 71/71 [00:00<00:00, 31023.60it/s]\n"
     ]
    }
   ],
   "source": [
    "#CRECIL\n",
    "compare['CRECIL'] = dict()\n",
    "\n",
    "ni_count = 0\n",
    "nin_count = 0\n",
    "\n",
    "with open('./CRECIL/Final_Data/train.json','r') as infile:\n",
    "    train_df = json.loads(infile.read())\n",
    "\n",
    "for i in tqdm(range(0,len(train_df))):\n",
    "\n",
    "    raw_list = train_df[i][0]\n",
    "    for raw in raw_list:\n",
    "\n",
    "        ni_count += len(re.findall('你',raw))\n",
    "        nin_count += len(re.findall('您',raw))\n",
    " \n",
    "with open('./CRECIL/Final_Data/dev.json','r') as infile:\n",
    "    dev_df = json.loads(infile.read())\n",
    "for i in tqdm(range(0,len(dev_df))):\n",
    "\n",
    "    raw_list = dev_df[i][0]\n",
    "    for raw in raw_list:\n",
    "\n",
    "        ni_count += len(re.findall('你',raw))\n",
    "        nin_count += len(re.findall('您',raw))\n",
    "        \n",
    "with open('./CRECIL/Final_Data/test.json','r') as infile:\n",
    "    test_df = json.loads(infile.read())\n",
    "    \n",
    "for i in tqdm(range(0,len(test_df))):\n",
    "\n",
    "    raw_list = test_df[i][0]\n",
    "    for raw in raw_list:\n",
    "\n",
    "        ni_count += len(re.findall('你',raw))\n",
    "        nin_count += len(re.findall('您',raw))\n",
    "        \n",
    "compare['CRECIL']['你 nǐ']=ni_count\n",
    "compare['CRECIL']['您 nín']=nin_count"
   ]
  },
  {
   "cell_type": "code",
   "execution_count": 84,
   "id": "857a65db",
   "metadata": {},
   "outputs": [
    {
     "data": {
      "text/plain": [
       "{'HUB5 Mandarin Telephone\\nSpeech and Transcripts': {'你 nǐ': 7143,\n",
       "  '您 nín': 9},\n",
       " 'MAGICDATA Mandarin Chinese\\nConversational Speech': {'你 nǐ': 34264,\n",
       "  '您 nín': 61},\n",
       " 'HKUST/MTS: A Very Large\\nScale Mandarin Telephone\\nSpeech Corpus': {'你 nǐ': 45860,\n",
       "  '您 nín': 206},\n",
       " 'CRECIL': {'你 nǐ': 9477, '您 nín': 3740},\n",
       " 'DialogRE': {'你 nǐ': 12503, '您 nín': 53},\n",
       " 'Self-curated subtitles': {'你 nǐ': 6416, '您 nín': 505}}"
      ]
     },
     "execution_count": 84,
     "metadata": {},
     "output_type": "execute_result"
    }
   ],
   "source": [
    "compare"
   ]
  },
  {
   "cell_type": "code",
   "execution_count": 92,
   "id": "dd2c07dc",
   "metadata": {},
   "outputs": [],
   "source": [
    "table = pd.DataFrame(compare).T\n",
    "with open('copora_comparison.csv','w') as outfile:\n",
    "    table.to_csv(outfile)"
   ]
  }
 ],
 "metadata": {
  "kernelspec": {
   "display_name": "Python 3 (ipykernel)",
   "language": "python",
   "name": "python3"
  },
  "language_info": {
   "codemirror_mode": {
    "name": "ipython",
    "version": 3
   },
   "file_extension": ".py",
   "mimetype": "text/x-python",
   "name": "python",
   "nbconvert_exporter": "python",
   "pygments_lexer": "ipython3",
   "version": "3.9.7"
  }
 },
 "nbformat": 4,
 "nbformat_minor": 5
}
