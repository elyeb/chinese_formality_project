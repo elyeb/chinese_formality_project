{
 "cells": [
  {
   "cell_type": "markdown",
   "id": "bc104882",
   "metadata": {},
   "source": [
    "Create a simple distribution of 你/您 among the corpora explored"
   ]
  },
  {
   "cell_type": "code",
   "execution_count": 51,
   "id": "042ba509",
   "metadata": {},
   "outputs": [],
   "source": [
    "import jieba\n",
    "from pathlib import Path\n",
    "import re\n",
    "import json\n",
    "from tqdm import tqdm\n",
    "import pandas as pd"
   ]
  },
  {
   "cell_type": "code",
   "execution_count": null,
   "id": "35065da9",
   "metadata": {},
   "outputs": [],
   "source": [
    "# HUB5 Mandarin Telephone Speech and Transcripts\n",
    "%ls /corpora/LDC/LDC2018S18/data/transcripts/mandarin/"
   ]
  },
  {
   "cell_type": "code",
   "execution_count": 17,
   "id": "68047c82",
   "metadata": {},
   "outputs": [],
   "source": [
    "compare = dict()\n",
    "compare['HUB5 Mandarin Telephone\\nSpeech and Transcripts'] = dict()"
   ]
  },
  {
   "cell_type": "code",
   "execution_count": 18,
   "id": "55f3d595",
   "metadata": {},
   "outputs": [],
   "source": [
    "p = Path('/corpora/LDC/LDC2018S18/data/transcripts/mandarin/')\n",
    "files = [f for f in p.iterdir() if f.is_file()]\n",
    "ni_count = 0\n",
    "nin_count = 0\n",
    "for f in files:\n",
    "    with open(str(f.absolute()),'r') as infile:\n",
    "        raw = infile.read()\n",
    "        ni_count += len(re.findall('你',raw))\n",
    "        nin_count += len(re.findall('您',raw))\n",
    "        \n",
    "compare['HUB5 Mandarin Telephone\\nSpeech and Transcripts']['你 nǐ']=ni_count\n",
    "compare['HUB5 Mandarin Telephone\\nSpeech and Transcripts']['您 nín']=nin_count"
   ]
  },
  {
   "cell_type": "code",
   "execution_count": null,
   "id": "3321c926",
   "metadata": {},
   "outputs": [],
   "source": [
    "# MAGICDATA Mandarin Chinese Conversational Speech Corpus\n",
    "%ls /projects/assigned/2223_elyeb/MDT2021S003/TXT/"
   ]
  },
  {
   "cell_type": "code",
   "execution_count": 29,
   "id": "2d71dc36",
   "metadata": {},
   "outputs": [],
   "source": [
    "compare['MAGICDATA Mandarin Chinese\\nConversational Speech'] = dict()\n",
    "p = Path('/projects/assigned/2223_elyeb/MDT2021S003/TXT/')\n",
    "files = [f for f in p.iterdir() if f.is_file()]\n",
    "ni_count = 0\n",
    "nin_count = 0\n",
    "for f in files:\n",
    "    with open(str(f.absolute()),'r') as infile:\n",
    "        raw = infile.read()\n",
    "        ni_count += len(re.findall('你',raw))\n",
    "        nin_count += len(re.findall('您',raw))\n",
    "        \n",
    "compare['MAGICDATA Mandarin Chinese\\nConversational Speech']['你 nǐ']=ni_count\n",
    "compare['MAGICDATA Mandarin Chinese\\nConversational Speech']['您 nín']=nin_count"
   ]
  },
  {
   "cell_type": "code",
   "execution_count": 47,
   "id": "51b4dfd9",
   "metadata": {},
   "outputs": [
    {
     "name": "stdout",
     "output_type": "stream",
     "text": [
      "\u001b[0m\u001b[38;5;33mdev\u001b[0m/  \u001b[38;5;33mtrain\u001b[0m/\r\n"
     ]
    }
   ],
   "source": [
    "%ls /corpora/LDC/LDC05T32/data/trans"
   ]
  },
  {
   "cell_type": "code",
   "execution_count": 48,
   "id": "3a416dcc",
   "metadata": {},
   "outputs": [],
   "source": [
    "#HKUST/MTS: A Very Large Scale Mandarin Telephone Speech Corpus\n",
    "compare['HKUST/MTS: A Very Large\\nScale Mandarin Telephone\\nSpeech Corpus'] = dict()\n",
    "p = Path('/corpora/LDC/LDC05T32/data/trans/train/')\n",
    "files = [f for f in p.iterdir() if f.is_file()]\n",
    "ni_count = 0\n",
    "nin_count = 0\n",
    "for f in files:\n",
    "    with open(str(f.absolute()),'r',encoding='gb18030') as infile:\n",
    "        raw = infile.read()\n",
    "        ni_count += len(re.findall('你',raw))\n",
    "        nin_count += len(re.findall('您',raw))\n",
    "\n",
    "p = Path('/corpora/LDC/LDC05T32/data/trans/dev/')\n",
    "files = [f for f in p.iterdir() if f.is_file()]\n",
    "for f in files:\n",
    "    with open(str(f.absolute()),'r',encoding='gb18030') as infile:\n",
    "        raw = infile.read()\n",
    "        ni_count += len(re.findall('你',raw))\n",
    "        nin_count += len(re.findall('您',raw))\n",
    "        \n",
    "compare['HKUST/MTS: A Very Large\\nScale Mandarin Telephone\\nSpeech Corpus']['你 nǐ']=ni_count\n",
    "compare['HKUST/MTS: A Very Large\\nScale Mandarin Telephone\\nSpeech Corpus']['您 nín']=nin_count"
   ]
  },
  {
   "cell_type": "code",
   "execution_count": 53,
   "id": "61cee774",
   "metadata": {},
   "outputs": [
    {
     "name": "stderr",
     "output_type": "stream",
     "text": [
      "100%|██████████████████████████████████████| 482/482 [00:00<00:00, 27731.89it/s]\n",
      "100%|██████████████████████████████████████| 116/116 [00:00<00:00, 32225.41it/s]\n",
      "100%|████████████████████████████████████████| 71/71 [00:00<00:00, 29773.60it/s]\n"
     ]
    }
   ],
   "source": [
    "#CRECIL\n",
    "compare['CRECIL'] = dict()\n",
    "\n",
    "ni_count = 0\n",
    "nin_count = 0\n",
    "\n",
    "with open('./CRECIL/Final_Data/train.json','r') as infile:\n",
    "    train_df = json.loads(infile.read())\n",
    "\n",
    "for i in tqdm(range(0,len(train_df))):\n",
    "\n",
    "    raw_list = train_df[i][0]\n",
    "    for raw in raw_list:\n",
    "\n",
    "        ni_count += len(re.findall('你',raw))\n",
    "        nin_count += len(re.findall('您',raw))\n",
    " \n",
    "with open('./CRECIL/Final_Data/dev.json','r') as infile:\n",
    "    dev_df = json.loads(infile.read())\n",
    "for i in tqdm(range(0,len(dev_df))):\n",
    "\n",
    "    raw_list = dev_df[i][0]\n",
    "    for raw in raw_list:\n",
    "\n",
    "        ni_count += len(re.findall('你',raw))\n",
    "        nin_count += len(re.findall('您',raw))\n",
    "        \n",
    "with open('./CRECIL/Final_Data/test.json','r') as infile:\n",
    "    test_df = json.loads(infile.read())\n",
    "    \n",
    "for i in tqdm(range(0,len(test_df))):\n",
    "\n",
    "    raw_list = test_df[i][0]\n",
    "    for raw in raw_list:\n",
    "\n",
    "        ni_count += len(re.findall('你',raw))\n",
    "        nin_count += len(re.findall('您',raw))\n",
    "        \n",
    "compare['CRECIL']['你 nǐ']=ni_count\n",
    "compare['CRECIL']['您 nín']=nin_count"
   ]
  },
  {
   "cell_type": "code",
   "execution_count": 54,
   "id": "345573c3",
   "metadata": {},
   "outputs": [
    {
     "data": {
      "text/plain": [
       "{'HUB5 Mandarin Telephone\\nSpeech and Transcripts': {'你 nǐ': 7143,\n",
       "  '您 nín': 9},\n",
       " 'MAGICDATA Mandarin Chinese\\nConversational Speech': {'你 nǐ': 34264,\n",
       "  '您 nín': 61},\n",
       " 'HKUST/MTS: A Very Large\\nScale Mandarin Telephone\\nSpeech Corpus': {'你 nǐ': 45860,\n",
       "  '您 nín': 206},\n",
       " 'CRECIL': {'你 nǐ': 9477, '您 nín': 3740}}"
      ]
     },
     "execution_count": 54,
     "metadata": {},
     "output_type": "execute_result"
    }
   ],
   "source": [
    "dialogre/data_v2/cn/data/train.json\n",
    "dialogre/data_v2/cn/data/dev.json\n",
    "dialogre/data_v2/cn/data/test.json"
   ]
  },
  {
   "cell_type": "code",
   "execution_count": 64,
   "id": "04a03dc2",
   "metadata": {},
   "outputs": [
    {
     "name": "stderr",
     "output_type": "stream",
     "text": [
      "100%|████████████████████████████████████| 1073/1073 [00:00<00:00, 62256.03it/s]\n",
      "100%|██████████████████████████████████████| 358/358 [00:00<00:00, 61476.39it/s]\n",
      "100%|██████████████████████████████████████| 357/357 [00:00<00:00, 64129.79it/s]\n"
     ]
    }
   ],
   "source": [
    "#DialogRE\n",
    "compare['DialogRE'] = dict()\n",
    "\n",
    "ni_count = 0\n",
    "nin_count = 0\n",
    "\n",
    "with open('./dialogre/data_v2/cn/data/train.json','r') as infile:\n",
    "    train_df = json.loads(infile.read())\n",
    "\n",
    "for i in tqdm(range(0,len(train_df))):\n",
    "\n",
    "    raw_list = train_df[i][0]\n",
    "    for raw in raw_list:\n",
    "\n",
    "        ni_count += len(re.findall('你',raw))\n",
    "        nin_count += len(re.findall('您',raw))\n",
    " \n",
    "with open('./dialogre/data_v2/cn/data/dev.json','r') as infile:\n",
    "    dev_df = json.loads(infile.read())\n",
    "for i in tqdm(range(0,len(dev_df))):\n",
    "\n",
    "    raw_list = dev_df[i][0]\n",
    "    for raw in raw_list:\n",
    "\n",
    "        ni_count += len(re.findall('你',raw))\n",
    "        nin_count += len(re.findall('您',raw))\n",
    "        \n",
    "with open('./dialogre/data_v2/cn/data/test.json','r') as infile:\n",
    "    test_df = json.loads(infile.read())\n",
    "    \n",
    "for i in tqdm(range(0,len(test_df))):\n",
    "\n",
    "    raw_list = test_df[i][0]\n",
    "    for raw in raw_list:\n",
    "\n",
    "        ni_count += len(re.findall('你',raw))\n",
    "        nin_count += len(re.findall('您',raw))\n",
    "        \n",
    "compare['DialogRE']['你 nǐ']=ni_count\n",
    "compare['DialogRE']['您 nín']=nin_count"
   ]
  },
  {
   "cell_type": "code",
   "execution_count": 70,
   "id": "f95af3e5",
   "metadata": {},
   "outputs": [],
   "source": [
    "table = pd.DataFrame(compare).T\n",
    "with open('copora_comparison.csv','w') as outfile:\n",
    "    table.to_csv(outfile)"
   ]
  }
 ],
 "metadata": {
  "kernelspec": {
   "display_name": "Python 3 (ipykernel)",
   "language": "python",
   "name": "python3"
  },
  "language_info": {
   "codemirror_mode": {
    "name": "ipython",
    "version": 3
   },
   "file_extension": ".py",
   "mimetype": "text/x-python",
   "name": "python",
   "nbconvert_exporter": "python",
   "pygments_lexer": "ipython3",
   "version": "3.9.7"
  }
 },
 "nbformat": 4,
 "nbformat_minor": 5
}
