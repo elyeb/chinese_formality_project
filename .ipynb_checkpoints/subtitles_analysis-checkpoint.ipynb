{
 "cells": [
  {
   "cell_type": "code",
   "execution_count": 30,
   "id": "0316f0a6",
   "metadata": {},
   "outputs": [
    {
     "data": {
      "text/plain": [
       "0"
      ]
     },
     "execution_count": 30,
     "metadata": {},
     "output_type": "execute_result"
    }
   ],
   "source": [
    "#load packages\n",
    "import os\n",
    "from os import listdir\n",
    "from os.path import isfile, join\n",
    "import re\n",
    "import jieba\n",
    "from collections import Counter\n",
    "from sklearn.model_selection import train_test_split\n",
    "from sklearn.naive_bayes import GaussianNB, CategoricalNB, MultinomialNB, BernoulliNB\n",
    "from sklearn.feature_extraction.text import CountVectorizer\n",
    "import pandas as pd\n",
    "import string\n",
    "import numpy as np\n",
    "import itertools\n",
    "import json\n",
    "import csv\n",
    "import gc\n",
    "from sklearn.metrics import ConfusionMatrixDisplay\n",
    "\n",
    "gc.collect()\n"
   ]
  },
  {
   "cell_type": "code",
   "execution_count": 17,
   "id": "57fde252",
   "metadata": {},
   "outputs": [
    {
     "name": "stdout",
     "output_type": "stream",
     "text": [
      "\u001b[0m\u001b[38;5;33mstrange_tales_of_tang_dynasty\u001b[0m/  \u001b[38;5;33m同一屋檐下\u001b[0m/\r\n"
     ]
    }
   ],
   "source": [
    "%ls ./subtitle_corpora/Chinese/"
   ]
  },
  {
   "cell_type": "code",
   "execution_count": 18,
   "id": "34deb5d2",
   "metadata": {},
   "outputs": [],
   "source": [
    "root = './subtitle_corpora/'\n",
    "corpora_path = root+'Chinese/' #\n",
    "json_path = root+'json_files/'\n",
    "filename = \"chinese_cor.json\"\n",
    "ref_path = root+'thesis_files/chinese/'\n",
    "source_file = \"chinese_cor.json\"\n",
    "\n",
    "no_turns = 5 #window size +- number of turns in dialogue context to extract features from. Includes current\n",
    "\n",
    "labels =['你','您']"
   ]
  },
  {
   "cell_type": "code",
   "execution_count": 19,
   "id": "2b1fd383",
   "metadata": {},
   "outputs": [],
   "source": [
    "class data:\n",
    "    \n",
    "    def __init__(self,no_turns,root,corpora_path,json_path,filename,ref_path,labels):\n",
    "        self.no_turns = no_turns #number of lines before pronoun appears\n",
    "        self.root = root #directory with corpus files\n",
    "        self.corpora_path = corpora_path\n",
    "        self.json_path = json_path\n",
    "        self.filename = filename\n",
    "        self.ref_path = ref_path\n",
    "        self.labels = labels #the classes of the classifier (pronouns)\n",
    "        self.raw_corpus =\"\"#cleaned version of entire corpus that remains a single string\n",
    "        self.instance_dict = Counter()\n",
    "        self.instance_array = []\n",
    "        self.context_array = []\n",
    "        self.gt_array = []\n",
    "        \n",
    "    def create_from_files(self):\n",
    "        \"\"\"\n",
    "        Create the corpus using srt or txt files from the given directory.\n",
    "        The exact functions used here will be language-specific.\n",
    "        \"\"\"\n",
    "        \n",
    "        #create tokenized list\n",
    "        only_files = []\n",
    "        for dirpath, subdirs, files in os.walk(self.corpora_path):\n",
    "            for x in files:\n",
    "                if (x.endswith('srt'))|(x.endswith('txt')):\n",
    "                    only_files.append(os.path.join(dirpath, x))\n",
    "\n",
    "\n",
    "        raw_corpus = \" \".join(open(f,encoding='utf8').read() for f in only_files)\n",
    "        raw_corpus = re.sub('\\n+','\\n',raw_corpus)\n",
    "\n",
    "        list_raw = raw_corpus.split('\\n')\n",
    "        \n",
    "        #Create dictionary objects\n",
    "        element_counter = 0\n",
    "        for i in range(0,len(list_raw)):\n",
    "            for pronoun in self.labels:\n",
    "                if pronoun in list(jieba.cut(list_raw[i])):\n",
    "                    \n",
    "                    self.instance_array.append(element_counter)\n",
    "                    filtered_list = []\n",
    "                    single_context = \"\"\n",
    "                    for r in range(max(i-no_turns,0),i):\n",
    "                        filtered_list.append(list_raw[r])\n",
    "                        single_context += list_raw[r]+\"\\n\"\n",
    "                    \n",
    "                    self.instance_dict[element_counter] = {}\n",
    "                    self.instance_dict[element_counter][\"dialog\"] = filtered_list\n",
    "                    self.instance_dict[element_counter][\"gt\"] = pronoun\n",
    "                    self.instance_dict[element_counter][\"cur_utt\"] = list_raw[i]\n",
    "                    self.instance_dict[element_counter][\"single_context\"] = single_context\n",
    "                    self.instance_dict[element_counter][\"predicted\"]= \"\"\n",
    "                    self.context_array.append(single_context)\n",
    "                    self.gt_array.append(pronoun)\n",
    "                    element_counter+=1\n",
    "              \n",
    "    def read_from_json(self):\n",
    "        \n",
    "        #read from existing .json formats\n",
    "        with open(self.json_path+self.filename, \"r\") as path_in:\n",
    "            self.instance_dict = json.loads(path_in.read())\n",
    "\n",
    "        self.instance_dict = {int(k): self.instance_dict[k] for k in self.instance_dict}\n",
    "        self.instance_dict\n",
    "    \n",
    "    def save_to_json(self):\n",
    "        #write to .json formats\n",
    "        df = self.instance_dict\n",
    "        with open(self.json_path+self.filename, \"w\") as outfile:\n",
    "            json.dump(df,outfile)\n",
    "            \n",
    "    def get_accuracy(self):\n",
    "        #Get accuracy\n",
    "        correct = 0\n",
    "        total = 0\n",
    "        for i in self.instance_array:\n",
    "            total +=1\n",
    "            if self.instance_dict[i][\"gt\"]==self.instance_dict[i][\"predicted\"]:\n",
    "                correct += 1\n",
    "        return correct/total\n",
    "    \n",
    "def ch_tokenizer(input_str:str):\n",
    "    #tokenize sentence and return as list\n",
    "    tokenized = list(jieba.cut(input_str))\n",
    "    return tokenized"
   ]
  },
  {
   "cell_type": "code",
   "execution_count": 20,
   "id": "dda5b0fb",
   "metadata": {},
   "outputs": [],
   "source": [
    "#test creating data class\n",
    "data_zh = data(no_turns,root,corpora_path,json_path,filename,ref_path,labels)"
   ]
  },
  {
   "cell_type": "code",
   "execution_count": 21,
   "id": "14313210",
   "metadata": {},
   "outputs": [
    {
     "name": "stderr",
     "output_type": "stream",
     "text": [
      "Building prefix dict from the default dictionary ...\n",
      "Loading model from cache /tmp/jieba.cache\n",
      "Loading model cost 0.452 seconds.\n",
      "Prefix dict has been built successfully.\n"
     ]
    },
    {
     "data": {
      "text/plain": [
       "{'dialog': ['真实地来观察现实生活中的人', '就把这个当做我的目的', '谢谢', '好', '一会这些年轻的男孩女孩'],\n",
       " 'gt': '您',\n",
       " 'cur_utt': '还会勾起您更多回忆的',\n",
       " 'single_context': '真实地来观察现实生活中的人\\n就把这个当做我的目的\\n谢谢\\n好\\n一会这些年轻的男孩女孩\\n',\n",
       " 'predicted': ''}"
      ]
     },
     "execution_count": 21,
     "metadata": {},
     "output_type": "execute_result"
    }
   ],
   "source": [
    "data_zh.create_from_files()\n",
    "#test\n",
    "data_zh.instance_dict[2]"
   ]
  },
  {
   "cell_type": "code",
   "execution_count": 22,
   "id": "afaff0ef",
   "metadata": {},
   "outputs": [],
   "source": [
    "#Divide data into train and test\n",
    "X = [data_zh.instance_dict[item]['single_context'] for item in data_zh.instance_dict]\n",
    "#y = [('__label__'+data_zh.instance_dict[item]['gt']) for item in data_zh.instance_dict]\n",
    "y = [data_zh.instance_dict[item]['gt'] for item in data_zh.instance_dict]\n",
    "X_train, X_test, y_train, y_test = train_test_split(X, y, test_size=0.2, random_state=0)"
   ]
  },
  {
   "cell_type": "code",
   "execution_count": 23,
   "id": "b67b774f",
   "metadata": {},
   "outputs": [
    {
     "data": {
      "text/plain": [
       "'不\\n什么意思啊\\n父亲\\n在东都发生了一些事\\n父亲还不知道\\n'"
      ]
     },
     "execution_count": 23,
     "metadata": {},
     "output_type": "execute_result"
    }
   ],
   "source": [
    "X_train[0]"
   ]
  },
  {
   "cell_type": "markdown",
   "id": "b81320c3",
   "metadata": {},
   "source": [
    "Attempt classification using simple bag of words approach, and fitting various classifiers"
   ]
  },
  {
   "cell_type": "code",
   "execution_count": 24,
   "id": "fea81500",
   "metadata": {},
   "outputs": [
    {
     "name": "stderr",
     "output_type": "stream",
     "text": [
      "/home2/elyeb/anaconda3/lib/python3.9/site-packages/sklearn/feature_extraction/text.py:525: UserWarning: The parameter 'token_pattern' will not be used since 'tokenizer' is not None'\n",
      "  warnings.warn(\n"
     ]
    }
   ],
   "source": [
    "cv = CountVectorizer(tokenizer=ch_tokenizer,ngram_range=(1,3),min_df=2,max_df=0.55)\n",
    "\n",
    "count_vector=cv.fit_transform(X_train)\n",
    "\n",
    "X_train = count_vector.toarray()\n",
    "\n",
    "X_test = cv.transform(X_test).toarray()"
   ]
  },
  {
   "cell_type": "code",
   "execution_count": 25,
   "id": "d1733749",
   "metadata": {},
   "outputs": [],
   "source": [
    "from sklearn.naive_bayes import GaussianNB\n",
    "\n",
    "NB = GaussianNB()"
   ]
  },
  {
   "cell_type": "code",
   "execution_count": 26,
   "id": "21a98336",
   "metadata": {},
   "outputs": [
    {
     "data": {
      "text/plain": [
       "Counter({'你': 1197, '您': 27})"
      ]
     },
     "execution_count": 26,
     "metadata": {},
     "output_type": "execute_result"
    }
   ],
   "source": [
    "NB.fit(X_train, y_train)\n",
    "y_pred = NB.predict(X_test)\n",
    "\n",
    "Counter(y_pred)"
   ]
  },
  {
   "cell_type": "code",
   "execution_count": 38,
   "id": "060e6a25",
   "metadata": {},
   "outputs": [
    {
     "name": "stdout",
     "output_type": "stream",
     "text": [
      "0.911\n"
     ]
    },
    {
     "data": {
      "image/png": "[encoded data removed]",
      "text/plain": [
       "<Figure size 432x288 with 1 Axes>"
      ]
     },
     "metadata": {
      "needs_background": "light"
     },
     "output_type": "display_data"
    }
   ],
   "source": [
    "#accuracy on test set = 0.711\n",
    "\n",
    "print(round((y_pred==y_test).sum()/len(y_pred), 3))\n",
    "import matplotlib.pyplot as plt\n",
    "plt.rcParams['font.sans-serif'] = ['SimHei']\n",
    "disp = ConfusionMatrixDisplay.from_predictions(y_test,y_pred,colorbar=False,display_labels=['你 ni','您 nin'])\n",
    "plt.savefig('subtitle_confusion_matrix.png', facecolor='white')\n",
    "plt.show()\n"
   ]
  },
  {
   "cell_type": "code",
   "execution_count": 39,
   "id": "4c2c935f",
   "metadata": {},
   "outputs": [
    {
     "data": {
      "text/plain": [
       "Counter({'你': 1197, '您': 27})"
      ]
     },
     "execution_count": 39,
     "metadata": {},
     "output_type": "execute_result"
    }
   ],
   "source": [
    "Counter(y_pred)"
   ]
  },
  {
   "cell_type": "code",
   "execution_count": 40,
   "id": "fdd0adee",
   "metadata": {},
   "outputs": [],
   "source": [
    "nin_true = []\n",
    "nin_pred = []\n",
    "for i in range(0,len(y_pred)):\n",
    "    if y_test[i] == '您':\n",
    "        nin_true.append(1)\n",
    "    else:\n",
    "        nin_true.append(0)\n",
    "        \n",
    "    if y_pred[i] == '您':\n",
    "        nin_pred.append(1)\n",
    "    else:\n",
    "        nin_pred.append(0)\n",
    "        "
   ]
  },
  {
   "cell_type": "code",
   "execution_count": 46,
   "id": "5bf232dc",
   "metadata": {},
   "outputs": [
    {
     "data": {
      "text/plain": [
       "0.23776223776223773"
      ]
     },
     "execution_count": 46,
     "metadata": {},
     "output_type": "execute_result"
    }
   ],
   "source": [
    "from sklearn.metrics import f1_score,accuracy_score,precision_recall_fscore_support\n",
    "f1_score(nin_true,nin_pred)"
   ]
  },
  {
   "cell_type": "code",
   "execution_count": 50,
   "id": "6d1684f9",
   "metadata": {},
   "outputs": [
    {
     "data": {
      "text/html": [
       "<div>\n",
       "<style scoped>\n",
       "    .dataframe tbody tr th:only-of-type {\n",
       "        vertical-align: middle;\n",
       "    }\n",
       "\n",
       "    .dataframe tbody tr th {\n",
       "        vertical-align: top;\n",
       "    }\n",
       "\n",
       "    .dataframe thead th {\n",
       "        text-align: right;\n",
       "    }\n",
       "</style>\n",
       "<table border=\"1\" class=\"dataframe\">\n",
       "  <thead>\n",
       "    <tr style=\"text-align: right;\">\n",
       "      <th></th>\n",
       "      <th>你 nǐ</th>\n",
       "      <th>您 ní n</th>\n",
       "    </tr>\n",
       "  </thead>\n",
       "  <tbody>\n",
       "    <tr>\n",
       "      <th>0</th>\n",
       "      <td>0.917293</td>\n",
       "      <td>0.629630</td>\n",
       "    </tr>\n",
       "    <tr>\n",
       "      <th>1</th>\n",
       "      <td>0.990975</td>\n",
       "      <td>0.146552</td>\n",
       "    </tr>\n",
       "    <tr>\n",
       "      <th>2</th>\n",
       "      <td>0.952711</td>\n",
       "      <td>0.237762</td>\n",
       "    </tr>\n",
       "    <tr>\n",
       "      <th>3</th>\n",
       "      <td>1108.000000</td>\n",
       "      <td>116.000000</td>\n",
       "    </tr>\n",
       "  </tbody>\n",
       "</table>\n",
       "</div>"
      ],
      "text/plain": [
       "         你 nǐ     您 ní n\n",
       "0     0.917293    0.629630\n",
       "1     0.990975    0.146552\n",
       "2     0.952711    0.237762\n",
       "3  1108.000000  116.000000"
      ]
     },
     "execution_count": 50,
     "metadata": {},
     "output_type": "execute_result"
    }
   ],
   "source": [
    "pd.DataFrame(precision_recall_fscore_support(nin_true,nin_pred),columns=['你 nǐ','您 ní n'])"
   ]
  },
  {
   "cell_type": "code",
   "execution_count": 25,
   "id": "6a0cbb14",
   "metadata": {},
   "outputs": [
    {
     "data": {
      "text/plain": [
       "1.0"
      ]
     },
     "execution_count": 25,
     "metadata": {},
     "output_type": "execute_result"
    }
   ],
   "source": [
    "#accuracy on training set = 1.0\n",
    "y_train_pred = rf_model.predict(X_train_vect_avg)\n",
    "round((y_train_pred==y_train).sum()/len(y_train_pred), 3)"
   ]
  },
  {
   "cell_type": "markdown",
   "id": "e228df98",
   "metadata": {},
   "source": [
    "Conclusions:\n",
    "- First time that a model starts predicting 您, so that's success\n",
    "- 1 of them is correct"
   ]
  },
  {
   "cell_type": "markdown",
   "id": "3def3927",
   "metadata": {},
   "source": [
    "Experiment using fastText to learn word embeddings from current corpus"
   ]
  },
  {
   "cell_type": "code",
   "execution_count": 25,
   "id": "d32cf50f",
   "metadata": {},
   "outputs": [],
   "source": [
    "from sklearn.metrics  import f1_score,accuracy_score, confusion_matrix\n"
   ]
  },
  {
   "cell_type": "code",
   "execution_count": 26,
   "id": "6aacd2d5",
   "metadata": {},
   "outputs": [
    {
     "data": {
      "text/plain": [
       "array([[1102,    9],\n",
       "       [ 100,   13]])"
      ]
     },
     "execution_count": 26,
     "metadata": {},
     "output_type": "execute_result"
    }
   ],
   "source": [
    "confusion_matrix(y_test,y_pred)"
   ]
  },
  {
   "cell_type": "code",
   "execution_count": 29,
   "id": "e6f8e92b",
   "metadata": {},
   "outputs": [
    {
     "name": "stdout",
     "output_type": "stream",
     "text": [
      "0.911\n"
     ]
    },
    {
     "data": {
      "image/png": "[encoded data removed]",
      "text/plain": [
       "<Figure size 432x288 with 1 Axes>"
      ]
     },
     "metadata": {
      "needs_background": "light"
     },
     "output_type": "display_data"
    }
   ],
   "source": [
    "#accuracy on test set = 0.711\n",
    "print(round((y_pred==y_test).sum()/len(y_pred), 3))\n",
    "import matplotlib.pyplot as plt\n",
    "plt.rcParams['font.sans-serif'] = ['SimHei']\n",
    "disp = ConfusionMatrixDisplay.from_predictions(y_test,y_pred,colorbar=False)\n",
    "plt.show()"
   ]
  }
 ],
 "metadata": {
  "kernelspec": {
   "display_name": "Python 3 (ipykernel)",
   "language": "python",
   "name": "python3"
  },
  "language_info": {
   "codemirror_mode": {
    "name": "ipython",
    "version": 3
   },
   "file_extension": ".py",
   "mimetype": "text/x-python",
   "name": "python",
   "nbconvert_exporter": "python",
   "pygments_lexer": "ipython3",
   "version": "3.9.7"
  }
 },
 "nbformat": 4,
 "nbformat_minor": 5
}
